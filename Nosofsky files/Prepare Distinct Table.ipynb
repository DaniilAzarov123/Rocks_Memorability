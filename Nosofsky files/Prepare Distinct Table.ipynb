{
 "cells": [
  {
   "cell_type": "code",
   "execution_count": 2,
   "id": "8bd55010",
   "metadata": {},
   "outputs": [],
   "source": [
    "import numpy as np\n",
    "import pandas as pd\n",
    "import os"
   ]
  },
  {
   "cell_type": "markdown",
   "id": "1b64cf09",
   "metadata": {},
   "source": [
    "# 1. Table Prep\n",
    "Prepare the table: add names, make the format readable, etc."
   ]
  },
  {
   "cell_type": "code",
   "execution_count": 3,
   "id": "ad8edfdc",
   "metadata": {},
   "outputs": [
    {
     "data": {
      "application/vnd.microsoft.datawrangler.viewer.v0+json": {
       "columns": [
        {
         "name": "index",
         "rawType": "int64",
         "type": "integer"
        },
        {
         "name": "image_id",
         "rawType": "int64",
         "type": "integer"
        },
        {
         "name": "Category",
         "rawType": "int64",
         "type": "integer"
        },
        {
         "name": "Item",
         "rawType": "int64",
         "type": "integer"
        },
        {
         "name": "Distinct_Rating",
         "rawType": "float64",
         "type": "float"
        }
       ],
       "ref": "1b6a61f3-3618-423d-994b-a9dd663923f8",
       "rows": [
        [
         "0",
         "1",
         "1",
         "1",
         "3.99"
        ],
        [
         "1",
         "2",
         "1",
         "2",
         "3.93"
        ],
        [
         "2",
         "3",
         "1",
         "3",
         "3.17"
        ],
        [
         "3",
         "4",
         "1",
         "4",
         "3.18"
        ],
        [
         "4",
         "5",
         "1",
         "5",
         "3.32"
        ]
       ],
       "shape": {
        "columns": 4,
        "rows": 5
       }
      },
      "text/html": [
       "<div>\n",
       "<style scoped>\n",
       "    .dataframe tbody tr th:only-of-type {\n",
       "        vertical-align: middle;\n",
       "    }\n",
       "\n",
       "    .dataframe tbody tr th {\n",
       "        vertical-align: top;\n",
       "    }\n",
       "\n",
       "    .dataframe thead th {\n",
       "        text-align: right;\n",
       "    }\n",
       "</style>\n",
       "<table border=\"1\" class=\"dataframe\">\n",
       "  <thead>\n",
       "    <tr style=\"text-align: right;\">\n",
       "      <th></th>\n",
       "      <th>image_id</th>\n",
       "      <th>Category</th>\n",
       "      <th>Item</th>\n",
       "      <th>Distinct_Rating</th>\n",
       "    </tr>\n",
       "  </thead>\n",
       "  <tbody>\n",
       "    <tr>\n",
       "      <th>0</th>\n",
       "      <td>1</td>\n",
       "      <td>1</td>\n",
       "      <td>1</td>\n",
       "      <td>3.99</td>\n",
       "    </tr>\n",
       "    <tr>\n",
       "      <th>1</th>\n",
       "      <td>2</td>\n",
       "      <td>1</td>\n",
       "      <td>2</td>\n",
       "      <td>3.93</td>\n",
       "    </tr>\n",
       "    <tr>\n",
       "      <th>2</th>\n",
       "      <td>3</td>\n",
       "      <td>1</td>\n",
       "      <td>3</td>\n",
       "      <td>3.17</td>\n",
       "    </tr>\n",
       "    <tr>\n",
       "      <th>3</th>\n",
       "      <td>4</td>\n",
       "      <td>1</td>\n",
       "      <td>4</td>\n",
       "      <td>3.18</td>\n",
       "    </tr>\n",
       "    <tr>\n",
       "      <th>4</th>\n",
       "      <td>5</td>\n",
       "      <td>1</td>\n",
       "      <td>5</td>\n",
       "      <td>3.32</td>\n",
       "    </tr>\n",
       "  </tbody>\n",
       "</table>\n",
       "</div>"
      ],
      "text/plain": [
       "   image_id  Category  Item  Distinct_Rating\n",
       "0         1         1     1             3.99\n",
       "1         2         1     2             3.93\n",
       "2         3         1     3             3.17\n",
       "3         4         1     4             3.18\n",
       "4         5         1     5             3.32"
      ]
     },
     "execution_count": 3,
     "metadata": {},
     "output_type": "execute_result"
    }
   ],
   "source": [
    "# read in the distinctiveness ratings\n",
    "dist_rat_df = pd.read_csv(\"Average_rock_distinct_ratings.txt\", \n",
    "                          sep=r\"\\s+\", header=None, \n",
    "                          names=['image_id', 'Category','Item', 'Distinct_Rating'])\n",
    "dist_rat_df.head()"
   ]
  },
  {
   "cell_type": "code",
   "execution_count": 4,
   "id": "28c71312",
   "metadata": {},
   "outputs": [
    {
     "data": {
      "application/vnd.microsoft.datawrangler.viewer.v0+json": {
       "columns": [
        {
         "name": "index",
         "rawType": "int64",
         "type": "integer"
        },
        {
         "name": "image_id",
         "rawType": "int64",
         "type": "integer"
        },
        {
         "name": "Category",
         "rawType": "int64",
         "type": "integer"
        },
        {
         "name": "Item",
         "rawType": "int64",
         "type": "integer"
        },
        {
         "name": "Distinct_Rating",
         "rawType": "float64",
         "type": "float"
        },
        {
         "name": "image_png",
         "rawType": "object",
         "type": "string"
        },
        {
         "name": "Broad_Category_Name",
         "rawType": "object",
         "type": "string"
        },
        {
         "name": "Category_Name",
         "rawType": "object",
         "type": "string"
        }
       ],
       "ref": "2f3369b2-c7f2-41f9-8a0b-751881ea4cf8",
       "rows": [
        [
         "0",
         "1",
         "1",
         "1",
         "3.99",
         "I_Andesite_01.png",
         "I",
         "Andesite"
        ],
        [
         "1",
         "2",
         "1",
         "2",
         "3.93",
         "I_Andesite_02.png",
         "I",
         "Andesite"
        ],
        [
         "2",
         "3",
         "1",
         "3",
         "3.17",
         "I_Andesite_03.png",
         "I",
         "Andesite"
        ],
        [
         "3",
         "4",
         "1",
         "4",
         "3.18",
         "I_Andesite_04.png",
         "I",
         "Andesite"
        ],
        [
         "4",
         "5",
         "1",
         "5",
         "3.32",
         "I_Andesite_05.png",
         "I",
         "Andesite"
        ]
       ],
       "shape": {
        "columns": 7,
        "rows": 5
       }
      },
      "text/html": [
       "<div>\n",
       "<style scoped>\n",
       "    .dataframe tbody tr th:only-of-type {\n",
       "        vertical-align: middle;\n",
       "    }\n",
       "\n",
       "    .dataframe tbody tr th {\n",
       "        vertical-align: top;\n",
       "    }\n",
       "\n",
       "    .dataframe thead th {\n",
       "        text-align: right;\n",
       "    }\n",
       "</style>\n",
       "<table border=\"1\" class=\"dataframe\">\n",
       "  <thead>\n",
       "    <tr style=\"text-align: right;\">\n",
       "      <th></th>\n",
       "      <th>image_id</th>\n",
       "      <th>Category</th>\n",
       "      <th>Item</th>\n",
       "      <th>Distinct_Rating</th>\n",
       "      <th>image_png</th>\n",
       "      <th>Broad_Category_Name</th>\n",
       "      <th>Category_Name</th>\n",
       "    </tr>\n",
       "  </thead>\n",
       "  <tbody>\n",
       "    <tr>\n",
       "      <th>0</th>\n",
       "      <td>1</td>\n",
       "      <td>1</td>\n",
       "      <td>1</td>\n",
       "      <td>3.99</td>\n",
       "      <td>I_Andesite_01.png</td>\n",
       "      <td>I</td>\n",
       "      <td>Andesite</td>\n",
       "    </tr>\n",
       "    <tr>\n",
       "      <th>1</th>\n",
       "      <td>2</td>\n",
       "      <td>1</td>\n",
       "      <td>2</td>\n",
       "      <td>3.93</td>\n",
       "      <td>I_Andesite_02.png</td>\n",
       "      <td>I</td>\n",
       "      <td>Andesite</td>\n",
       "    </tr>\n",
       "    <tr>\n",
       "      <th>2</th>\n",
       "      <td>3</td>\n",
       "      <td>1</td>\n",
       "      <td>3</td>\n",
       "      <td>3.17</td>\n",
       "      <td>I_Andesite_03.png</td>\n",
       "      <td>I</td>\n",
       "      <td>Andesite</td>\n",
       "    </tr>\n",
       "    <tr>\n",
       "      <th>3</th>\n",
       "      <td>4</td>\n",
       "      <td>1</td>\n",
       "      <td>4</td>\n",
       "      <td>3.18</td>\n",
       "      <td>I_Andesite_04.png</td>\n",
       "      <td>I</td>\n",
       "      <td>Andesite</td>\n",
       "    </tr>\n",
       "    <tr>\n",
       "      <th>4</th>\n",
       "      <td>5</td>\n",
       "      <td>1</td>\n",
       "      <td>5</td>\n",
       "      <td>3.32</td>\n",
       "      <td>I_Andesite_05.png</td>\n",
       "      <td>I</td>\n",
       "      <td>Andesite</td>\n",
       "    </tr>\n",
       "  </tbody>\n",
       "</table>\n",
       "</div>"
      ],
      "text/plain": [
       "   image_id  Category  Item  Distinct_Rating          image_png  \\\n",
       "0         1         1     1             3.99  I_Andesite_01.png   \n",
       "1         2         1     2             3.93  I_Andesite_02.png   \n",
       "2         3         1     3             3.17  I_Andesite_03.png   \n",
       "3         4         1     4             3.18  I_Andesite_04.png   \n",
       "4         5         1     5             3.32  I_Andesite_05.png   \n",
       "\n",
       "  Broad_Category_Name Category_Name  \n",
       "0                   I      Andesite  \n",
       "1                   I      Andesite  \n",
       "2                   I      Andesite  \n",
       "3                   I      Andesite  \n",
       "4                   I      Andesite  "
      ]
     },
     "execution_count": 4,
     "metadata": {},
     "output_type": "execute_result"
    }
   ],
   "source": [
    "# Extract filenames and add them to the DataFrame\n",
    "filenames = sorted(os.listdir(\"Stimuli_Rocks480\"))\n",
    "dist_rat_df[\"image_png\"] = filenames\n",
    "dist_rat_df[\"Broad_Category_Name\"] = dist_rat_df[\"image_png\"].str.split(\"_\").str[0]\n",
    "dist_rat_df[\"Category_Name\"] = dist_rat_df[\"image_png\"].str.split(\"_\").str[1]\n",
    "\n",
    "dist_rat_df.head()"
   ]
  },
  {
   "cell_type": "markdown",
   "id": "c94ca065",
   "metadata": {},
   "source": [
    "# 2. Group Creation\n",
    "Create two groups based on their distinctiveness ratings"
   ]
  },
  {
   "cell_type": "code",
   "execution_count": 5,
   "id": "881eb781",
   "metadata": {},
   "outputs": [],
   "source": [
    "# Sort by Category first to keep order stable\n",
    "dist_rat_df = dist_rat_df.sort_values([\"Category\", \"Distinct_Rating\"], ascending=[True, False]).copy()\n",
    "\n",
    "# We'll store the results here\n",
    "dist_rat_df[\"Group1\"] = \"\"\n",
    "dist_rat_df[\"Group2\"] = \"\""
   ]
  },
  {
   "cell_type": "code",
   "execution_count": 6,
   "id": "6c3c070c",
   "metadata": {},
   "outputs": [],
   "source": [
    "# Process each category separately\n",
    "start_with_target = True  # Category 1 starts with Target in Group1\n",
    "for cat, group_df in dist_rat_df.groupby(\"Category\", sort=False):\n",
    "    # Determine the pattern for this category\n",
    "    if start_with_target:\n",
    "        patterns = [(\"Target\", \"Foil\"), (\"Foil\", \"Target\")]\n",
    "    else:\n",
    "        patterns = [(\"Foil\", \"Target\"), (\"Target\", \"Foil\")]\n",
    "    \n",
    "    # Assign patterns row by row\n",
    "    for i, idx in enumerate(group_df.index):\n",
    "        g1, g2 = patterns[i % 2]  # alternate\n",
    "        dist_rat_df.at[idx, \"Group1\"] = g1\n",
    "        dist_rat_df.at[idx, \"Group2\"] = g2\n",
    "    \n",
    "    # Flip pattern for next category\n",
    "    start_with_target = not start_with_target\n",
    "\n",
    "# Reset index\n",
    "dist_rat_df = dist_rat_df.reset_index(drop=True)"
   ]
  },
  {
   "cell_type": "code",
   "execution_count": 7,
   "id": "6964248d",
   "metadata": {},
   "outputs": [
    {
     "data": {
      "text/plain": [
       "0"
      ]
     },
     "execution_count": 7,
     "metadata": {},
     "output_type": "execute_result"
    }
   ],
   "source": [
    "# Make sure no objects are both targets and foils\n",
    "(dist_rat_df[\"Group1\"] == dist_rat_df[\"Group2\"]).sum()"
   ]
  },
  {
   "cell_type": "code",
   "execution_count": 8,
   "id": "5e03d60e",
   "metadata": {},
   "outputs": [
    {
     "data": {
      "application/vnd.microsoft.datawrangler.viewer.v0+json": {
       "columns": [
        {
         "name": "index",
         "rawType": "int64",
         "type": "integer"
        },
        {
         "name": "image_id",
         "rawType": "int64",
         "type": "integer"
        },
        {
         "name": "Broad_Category_Name",
         "rawType": "object",
         "type": "string"
        },
        {
         "name": "Category",
         "rawType": "int64",
         "type": "integer"
        },
        {
         "name": "Category_Name",
         "rawType": "object",
         "type": "string"
        },
        {
         "name": "Item",
         "rawType": "int64",
         "type": "integer"
        },
        {
         "name": "Distinct_Rating",
         "rawType": "float64",
         "type": "float"
        },
        {
         "name": "Group1",
         "rawType": "object",
         "type": "string"
        },
        {
         "name": "Group2",
         "rawType": "object",
         "type": "string"
        },
        {
         "name": "image_png",
         "rawType": "object",
         "type": "string"
        }
       ],
       "ref": "d4471603-fb40-4194-8ea1-54da8a75bce1",
       "rows": [
        [
         "0",
         "7",
         "I",
         "1",
         "Andesite",
         "7",
         "4.81",
         "Target",
         "Foil",
         "I_Andesite_07.png"
        ],
        [
         "1",
         "14",
         "I",
         "1",
         "Andesite",
         "14",
         "4.47",
         "Foil",
         "Target",
         "I_Andesite_14.png"
        ],
        [
         "2",
         "1",
         "I",
         "1",
         "Andesite",
         "1",
         "3.99",
         "Target",
         "Foil",
         "I_Andesite_01.png"
        ],
        [
         "3",
         "15",
         "I",
         "1",
         "Andesite",
         "15",
         "3.98",
         "Foil",
         "Target",
         "I_Andesite_15.png"
        ],
        [
         "4",
         "2",
         "I",
         "1",
         "Andesite",
         "2",
         "3.93",
         "Target",
         "Foil",
         "I_Andesite_02.png"
        ]
       ],
       "shape": {
        "columns": 9,
        "rows": 5
       }
      },
      "text/html": [
       "<div>\n",
       "<style scoped>\n",
       "    .dataframe tbody tr th:only-of-type {\n",
       "        vertical-align: middle;\n",
       "    }\n",
       "\n",
       "    .dataframe tbody tr th {\n",
       "        vertical-align: top;\n",
       "    }\n",
       "\n",
       "    .dataframe thead th {\n",
       "        text-align: right;\n",
       "    }\n",
       "</style>\n",
       "<table border=\"1\" class=\"dataframe\">\n",
       "  <thead>\n",
       "    <tr style=\"text-align: right;\">\n",
       "      <th></th>\n",
       "      <th>image_id</th>\n",
       "      <th>Broad_Category_Name</th>\n",
       "      <th>Category</th>\n",
       "      <th>Category_Name</th>\n",
       "      <th>Item</th>\n",
       "      <th>Distinct_Rating</th>\n",
       "      <th>Group1</th>\n",
       "      <th>Group2</th>\n",
       "      <th>image_png</th>\n",
       "    </tr>\n",
       "  </thead>\n",
       "  <tbody>\n",
       "    <tr>\n",
       "      <th>0</th>\n",
       "      <td>7</td>\n",
       "      <td>I</td>\n",
       "      <td>1</td>\n",
       "      <td>Andesite</td>\n",
       "      <td>7</td>\n",
       "      <td>4.81</td>\n",
       "      <td>Target</td>\n",
       "      <td>Foil</td>\n",
       "      <td>I_Andesite_07.png</td>\n",
       "    </tr>\n",
       "    <tr>\n",
       "      <th>1</th>\n",
       "      <td>14</td>\n",
       "      <td>I</td>\n",
       "      <td>1</td>\n",
       "      <td>Andesite</td>\n",
       "      <td>14</td>\n",
       "      <td>4.47</td>\n",
       "      <td>Foil</td>\n",
       "      <td>Target</td>\n",
       "      <td>I_Andesite_14.png</td>\n",
       "    </tr>\n",
       "    <tr>\n",
       "      <th>2</th>\n",
       "      <td>1</td>\n",
       "      <td>I</td>\n",
       "      <td>1</td>\n",
       "      <td>Andesite</td>\n",
       "      <td>1</td>\n",
       "      <td>3.99</td>\n",
       "      <td>Target</td>\n",
       "      <td>Foil</td>\n",
       "      <td>I_Andesite_01.png</td>\n",
       "    </tr>\n",
       "    <tr>\n",
       "      <th>3</th>\n",
       "      <td>15</td>\n",
       "      <td>I</td>\n",
       "      <td>1</td>\n",
       "      <td>Andesite</td>\n",
       "      <td>15</td>\n",
       "      <td>3.98</td>\n",
       "      <td>Foil</td>\n",
       "      <td>Target</td>\n",
       "      <td>I_Andesite_15.png</td>\n",
       "    </tr>\n",
       "    <tr>\n",
       "      <th>4</th>\n",
       "      <td>2</td>\n",
       "      <td>I</td>\n",
       "      <td>1</td>\n",
       "      <td>Andesite</td>\n",
       "      <td>2</td>\n",
       "      <td>3.93</td>\n",
       "      <td>Target</td>\n",
       "      <td>Foil</td>\n",
       "      <td>I_Andesite_02.png</td>\n",
       "    </tr>\n",
       "  </tbody>\n",
       "</table>\n",
       "</div>"
      ],
      "text/plain": [
       "   image_id Broad_Category_Name  Category Category_Name  Item  \\\n",
       "0         7                   I         1      Andesite     7   \n",
       "1        14                   I         1      Andesite    14   \n",
       "2         1                   I         1      Andesite     1   \n",
       "3        15                   I         1      Andesite    15   \n",
       "4         2                   I         1      Andesite     2   \n",
       "\n",
       "   Distinct_Rating  Group1  Group2          image_png  \n",
       "0             4.81  Target    Foil  I_Andesite_07.png  \n",
       "1             4.47    Foil  Target  I_Andesite_14.png  \n",
       "2             3.99  Target    Foil  I_Andesite_01.png  \n",
       "3             3.98    Foil  Target  I_Andesite_15.png  \n",
       "4             3.93  Target    Foil  I_Andesite_02.png  "
      ]
     },
     "execution_count": 8,
     "metadata": {},
     "output_type": "execute_result"
    }
   ],
   "source": [
    "# Reorder columns\n",
    "dist_rat_df = dist_rat_df[['image_id', 'Broad_Category_Name', 'Category', 'Category_Name', 'Item', 'Distinct_Rating', 'Group1','Group2','image_png']]\n",
    "dist_rat_df.head()"
   ]
  },
  {
   "cell_type": "markdown",
   "id": "251f5969",
   "metadata": {},
   "source": [
    "Columns:\n",
    "\n",
    "1. `image_id`: Order number in the original list (and in the folder)\n",
    "2. `Broad_Category_Name`: I - igneous, M - metamorphic, S - sedimentary rocks\n",
    "3. `Category`: Category ID\n",
    "4. `Category_Name`\n",
    "5. `Item`: There are 16 items of each category\n",
    "6. `Distinct_Rating`: Average distinctiveness ratings from Meagher & Nosofsky (2023)\n",
    "7. `Group1`: Whether this object is a target (old) or a foil (new) for the first group of subjects (opposite to `Group2`)\n",
    "8. `Group2`: Whether this object is a target (old) or a foil (new) for the second group of subjects (opposite to `Group1`)\n",
    "9. `image_png`: Image file name with this object"
   ]
  },
  {
   "cell_type": "code",
   "execution_count": 10,
   "id": "3bb06d4f",
   "metadata": {},
   "outputs": [],
   "source": [
    "# Save data\n",
    "dist_rat_df.to_csv(\"Average_Distinct_Ratings_480Rocks.csv\", index=False)\n",
    "dist_rat_df.to_json(\"Average_Distinct_Ratings_480Rocks.json\", orient=\"records\", indent=2)"
   ]
  },
  {
   "cell_type": "code",
   "execution_count": 9,
   "id": "6ae5e8e4",
   "metadata": {},
   "outputs": [
    {
     "data": {
      "application/vnd.microsoft.datawrangler.viewer.v0+json": {
       "columns": [
        {
         "name": "index",
         "rawType": "int64",
         "type": "integer"
        },
        {
         "name": "image_id",
         "rawType": "int64",
         "type": "integer"
        },
        {
         "name": "Broad_Category_Name",
         "rawType": "object",
         "type": "string"
        },
        {
         "name": "Category",
         "rawType": "int64",
         "type": "integer"
        },
        {
         "name": "Category_Name",
         "rawType": "object",
         "type": "string"
        },
        {
         "name": "Item",
         "rawType": "int64",
         "type": "integer"
        },
        {
         "name": "Distinct_Rating",
         "rawType": "float64",
         "type": "float"
        },
        {
         "name": "Group1",
         "rawType": "object",
         "type": "string"
        },
        {
         "name": "Group2",
         "rawType": "object",
         "type": "string"
        },
        {
         "name": "image_png",
         "rawType": "object",
         "type": "string"
        }
       ],
       "ref": "893cbbde-d2ae-45c6-ad97-adb994d87bb0",
       "rows": [
        [
         "0",
         "7",
         "I",
         "1",
         "Andesite",
         "7",
         "4.81",
         "Target",
         "Foil",
         "I_Andesite_07.png"
        ],
        [
         "1",
         "14",
         "I",
         "1",
         "Andesite",
         "14",
         "4.47",
         "Foil",
         "Target",
         "I_Andesite_14.png"
        ],
        [
         "2",
         "1",
         "I",
         "1",
         "Andesite",
         "1",
         "3.99",
         "Target",
         "Foil",
         "I_Andesite_01.png"
        ],
        [
         "3",
         "15",
         "I",
         "1",
         "Andesite",
         "15",
         "3.98",
         "Foil",
         "Target",
         "I_Andesite_15.png"
        ],
        [
         "4",
         "2",
         "I",
         "1",
         "Andesite",
         "2",
         "3.93",
         "Target",
         "Foil",
         "I_Andesite_02.png"
        ],
        [
         "5",
         "12",
         "I",
         "1",
         "Andesite",
         "12",
         "3.75",
         "Foil",
         "Target",
         "I_Andesite_12.png"
        ],
        [
         "6",
         "16",
         "I",
         "1",
         "Andesite",
         "16",
         "3.57",
         "Target",
         "Foil",
         "I_Andesite_16.png"
        ],
        [
         "7",
         "13",
         "I",
         "1",
         "Andesite",
         "13",
         "3.54",
         "Foil",
         "Target",
         "I_Andesite_13.png"
        ],
        [
         "8",
         "11",
         "I",
         "1",
         "Andesite",
         "11",
         "3.35",
         "Target",
         "Foil",
         "I_Andesite_11.png"
        ],
        [
         "9",
         "5",
         "I",
         "1",
         "Andesite",
         "5",
         "3.32",
         "Foil",
         "Target",
         "I_Andesite_05.png"
        ],
        [
         "10",
         "4",
         "I",
         "1",
         "Andesite",
         "4",
         "3.18",
         "Target",
         "Foil",
         "I_Andesite_04.png"
        ],
        [
         "11",
         "3",
         "I",
         "1",
         "Andesite",
         "3",
         "3.17",
         "Foil",
         "Target",
         "I_Andesite_03.png"
        ],
        [
         "12",
         "6",
         "I",
         "1",
         "Andesite",
         "6",
         "3.17",
         "Target",
         "Foil",
         "I_Andesite_06.png"
        ],
        [
         "13",
         "10",
         "I",
         "1",
         "Andesite",
         "10",
         "3.15",
         "Foil",
         "Target",
         "I_Andesite_10.png"
        ],
        [
         "14",
         "9",
         "I",
         "1",
         "Andesite",
         "9",
         "2.49",
         "Target",
         "Foil",
         "I_Andesite_09.png"
        ],
        [
         "15",
         "8",
         "I",
         "1",
         "Andesite",
         "8",
         "1.95",
         "Foil",
         "Target",
         "I_Andesite_08.png"
        ],
        [
         "16",
         "28",
         "I",
         "2",
         "Basalt",
         "12",
         "4.08",
         "Foil",
         "Target",
         "I_Basalt_12.png"
        ],
        [
         "17",
         "31",
         "I",
         "2",
         "Basalt",
         "15",
         "4.03",
         "Target",
         "Foil",
         "I_Basalt_15.png"
        ],
        [
         "18",
         "30",
         "I",
         "2",
         "Basalt",
         "14",
         "4.0",
         "Foil",
         "Target",
         "I_Basalt_14.png"
        ],
        [
         "19",
         "23",
         "I",
         "2",
         "Basalt",
         "7",
         "3.42",
         "Target",
         "Foil",
         "I_Basalt_07.png"
        ],
        [
         "20",
         "27",
         "I",
         "2",
         "Basalt",
         "11",
         "3.11",
         "Foil",
         "Target",
         "I_Basalt_11.png"
        ],
        [
         "21",
         "19",
         "I",
         "2",
         "Basalt",
         "3",
         "2.94",
         "Target",
         "Foil",
         "I_Basalt_03.png"
        ],
        [
         "22",
         "26",
         "I",
         "2",
         "Basalt",
         "10",
         "2.76",
         "Foil",
         "Target",
         "I_Basalt_10.png"
        ],
        [
         "23",
         "29",
         "I",
         "2",
         "Basalt",
         "13",
         "2.68",
         "Target",
         "Foil",
         "I_Basalt_13.png"
        ],
        [
         "24",
         "21",
         "I",
         "2",
         "Basalt",
         "5",
         "2.55",
         "Foil",
         "Target",
         "I_Basalt_05.png"
        ],
        [
         "25",
         "20",
         "I",
         "2",
         "Basalt",
         "4",
         "2.47",
         "Target",
         "Foil",
         "I_Basalt_04.png"
        ],
        [
         "26",
         "24",
         "I",
         "2",
         "Basalt",
         "8",
         "2.31",
         "Foil",
         "Target",
         "I_Basalt_08.png"
        ],
        [
         "27",
         "32",
         "I",
         "2",
         "Basalt",
         "16",
         "2.15",
         "Target",
         "Foil",
         "I_Basalt_16.png"
        ],
        [
         "28",
         "22",
         "I",
         "2",
         "Basalt",
         "6",
         "2.08",
         "Foil",
         "Target",
         "I_Basalt_06.png"
        ],
        [
         "29",
         "17",
         "I",
         "2",
         "Basalt",
         "1",
         "1.92",
         "Target",
         "Foil",
         "I_Basalt_01.png"
        ],
        [
         "30",
         "25",
         "I",
         "2",
         "Basalt",
         "9",
         "1.89",
         "Foil",
         "Target",
         "I_Basalt_09.png"
        ],
        [
         "31",
         "18",
         "I",
         "2",
         "Basalt",
         "2",
         "1.84",
         "Target",
         "Foil",
         "I_Basalt_02.png"
        ],
        [
         "32",
         "40",
         "I",
         "3",
         "Diorite",
         "8",
         "4.94",
         "Target",
         "Foil",
         "I_Diorite_08.png"
        ],
        [
         "33",
         "34",
         "I",
         "3",
         "Diorite",
         "2",
         "4.9",
         "Foil",
         "Target",
         "I_Diorite_02.png"
        ],
        [
         "34",
         "46",
         "I",
         "3",
         "Diorite",
         "14",
         "4.83",
         "Target",
         "Foil",
         "I_Diorite_14.png"
        ],
        [
         "35",
         "39",
         "I",
         "3",
         "Diorite",
         "7",
         "4.63",
         "Foil",
         "Target",
         "I_Diorite_07.png"
        ],
        [
         "36",
         "45",
         "I",
         "3",
         "Diorite",
         "13",
         "4.58",
         "Target",
         "Foil",
         "I_Diorite_13.png"
        ],
        [
         "37",
         "41",
         "I",
         "3",
         "Diorite",
         "9",
         "4.38",
         "Foil",
         "Target",
         "I_Diorite_09.png"
        ],
        [
         "38",
         "48",
         "I",
         "3",
         "Diorite",
         "16",
         "3.95",
         "Target",
         "Foil",
         "I_Diorite_16.png"
        ],
        [
         "39",
         "38",
         "I",
         "3",
         "Diorite",
         "6",
         "3.72",
         "Foil",
         "Target",
         "I_Diorite_06.png"
        ],
        [
         "40",
         "44",
         "I",
         "3",
         "Diorite",
         "12",
         "3.55",
         "Target",
         "Foil",
         "I_Diorite_12.png"
        ],
        [
         "41",
         "43",
         "I",
         "3",
         "Diorite",
         "11",
         "3.36",
         "Foil",
         "Target",
         "I_Diorite_11.png"
        ],
        [
         "42",
         "35",
         "I",
         "3",
         "Diorite",
         "3",
         "3.14",
         "Target",
         "Foil",
         "I_Diorite_03.png"
        ],
        [
         "43",
         "37",
         "I",
         "3",
         "Diorite",
         "5",
         "3.08",
         "Foil",
         "Target",
         "I_Diorite_05.png"
        ],
        [
         "44",
         "47",
         "I",
         "3",
         "Diorite",
         "15",
         "3.05",
         "Target",
         "Foil",
         "I_Diorite_15.png"
        ],
        [
         "45",
         "36",
         "I",
         "3",
         "Diorite",
         "4",
         "2.98",
         "Foil",
         "Target",
         "I_Diorite_04.png"
        ],
        [
         "46",
         "33",
         "I",
         "3",
         "Diorite",
         "1",
         "2.97",
         "Target",
         "Foil",
         "I_Diorite_01.png"
        ],
        [
         "47",
         "42",
         "I",
         "3",
         "Diorite",
         "10",
         "2.84",
         "Foil",
         "Target",
         "I_Diorite_10.png"
        ],
        [
         "48",
         "55",
         "I",
         "4",
         "Gabbro",
         "7",
         "4.29",
         "Foil",
         "Target",
         "I_Gabbro_07.png"
        ],
        [
         "49",
         "52",
         "I",
         "4",
         "Gabbro",
         "4",
         "4.1",
         "Target",
         "Foil",
         "I_Gabbro_04.png"
        ]
       ],
       "shape": {
        "columns": 9,
        "rows": 480
       }
      },
      "text/html": [
       "<div>\n",
       "<style scoped>\n",
       "    .dataframe tbody tr th:only-of-type {\n",
       "        vertical-align: middle;\n",
       "    }\n",
       "\n",
       "    .dataframe tbody tr th {\n",
       "        vertical-align: top;\n",
       "    }\n",
       "\n",
       "    .dataframe thead th {\n",
       "        text-align: right;\n",
       "    }\n",
       "</style>\n",
       "<table border=\"1\" class=\"dataframe\">\n",
       "  <thead>\n",
       "    <tr style=\"text-align: right;\">\n",
       "      <th></th>\n",
       "      <th>image_id</th>\n",
       "      <th>Broad_Category_Name</th>\n",
       "      <th>Category</th>\n",
       "      <th>Category_Name</th>\n",
       "      <th>Item</th>\n",
       "      <th>Distinct_Rating</th>\n",
       "      <th>Group1</th>\n",
       "      <th>Group2</th>\n",
       "      <th>image_png</th>\n",
       "    </tr>\n",
       "  </thead>\n",
       "  <tbody>\n",
       "    <tr>\n",
       "      <th>0</th>\n",
       "      <td>7</td>\n",
       "      <td>I</td>\n",
       "      <td>1</td>\n",
       "      <td>Andesite</td>\n",
       "      <td>7</td>\n",
       "      <td>4.81</td>\n",
       "      <td>Target</td>\n",
       "      <td>Foil</td>\n",
       "      <td>I_Andesite_07.png</td>\n",
       "    </tr>\n",
       "    <tr>\n",
       "      <th>1</th>\n",
       "      <td>14</td>\n",
       "      <td>I</td>\n",
       "      <td>1</td>\n",
       "      <td>Andesite</td>\n",
       "      <td>14</td>\n",
       "      <td>4.47</td>\n",
       "      <td>Foil</td>\n",
       "      <td>Target</td>\n",
       "      <td>I_Andesite_14.png</td>\n",
       "    </tr>\n",
       "    <tr>\n",
       "      <th>2</th>\n",
       "      <td>1</td>\n",
       "      <td>I</td>\n",
       "      <td>1</td>\n",
       "      <td>Andesite</td>\n",
       "      <td>1</td>\n",
       "      <td>3.99</td>\n",
       "      <td>Target</td>\n",
       "      <td>Foil</td>\n",
       "      <td>I_Andesite_01.png</td>\n",
       "    </tr>\n",
       "    <tr>\n",
       "      <th>3</th>\n",
       "      <td>15</td>\n",
       "      <td>I</td>\n",
       "      <td>1</td>\n",
       "      <td>Andesite</td>\n",
       "      <td>15</td>\n",
       "      <td>3.98</td>\n",
       "      <td>Foil</td>\n",
       "      <td>Target</td>\n",
       "      <td>I_Andesite_15.png</td>\n",
       "    </tr>\n",
       "    <tr>\n",
       "      <th>4</th>\n",
       "      <td>2</td>\n",
       "      <td>I</td>\n",
       "      <td>1</td>\n",
       "      <td>Andesite</td>\n",
       "      <td>2</td>\n",
       "      <td>3.93</td>\n",
       "      <td>Target</td>\n",
       "      <td>Foil</td>\n",
       "      <td>I_Andesite_02.png</td>\n",
       "    </tr>\n",
       "    <tr>\n",
       "      <th>...</th>\n",
       "      <td>...</td>\n",
       "      <td>...</td>\n",
       "      <td>...</td>\n",
       "      <td>...</td>\n",
       "      <td>...</td>\n",
       "      <td>...</td>\n",
       "      <td>...</td>\n",
       "      <td>...</td>\n",
       "      <td>...</td>\n",
       "    </tr>\n",
       "    <tr>\n",
       "      <th>475</th>\n",
       "      <td>468</td>\n",
       "      <td>S</td>\n",
       "      <td>30</td>\n",
       "      <td>Shale</td>\n",
       "      <td>4</td>\n",
       "      <td>2.23</td>\n",
       "      <td>Target</td>\n",
       "      <td>Foil</td>\n",
       "      <td>S_Shale_04.png</td>\n",
       "    </tr>\n",
       "    <tr>\n",
       "      <th>476</th>\n",
       "      <td>467</td>\n",
       "      <td>S</td>\n",
       "      <td>30</td>\n",
       "      <td>Shale</td>\n",
       "      <td>3</td>\n",
       "      <td>1.95</td>\n",
       "      <td>Foil</td>\n",
       "      <td>Target</td>\n",
       "      <td>S_Shale_03.png</td>\n",
       "    </tr>\n",
       "    <tr>\n",
       "      <th>477</th>\n",
       "      <td>474</td>\n",
       "      <td>S</td>\n",
       "      <td>30</td>\n",
       "      <td>Shale</td>\n",
       "      <td>10</td>\n",
       "      <td>1.91</td>\n",
       "      <td>Target</td>\n",
       "      <td>Foil</td>\n",
       "      <td>S_Shale_10.png</td>\n",
       "    </tr>\n",
       "    <tr>\n",
       "      <th>478</th>\n",
       "      <td>477</td>\n",
       "      <td>S</td>\n",
       "      <td>30</td>\n",
       "      <td>Shale</td>\n",
       "      <td>13</td>\n",
       "      <td>1.88</td>\n",
       "      <td>Foil</td>\n",
       "      <td>Target</td>\n",
       "      <td>S_Shale_13.png</td>\n",
       "    </tr>\n",
       "    <tr>\n",
       "      <th>479</th>\n",
       "      <td>479</td>\n",
       "      <td>S</td>\n",
       "      <td>30</td>\n",
       "      <td>Shale</td>\n",
       "      <td>15</td>\n",
       "      <td>1.84</td>\n",
       "      <td>Target</td>\n",
       "      <td>Foil</td>\n",
       "      <td>S_Shale_15.png</td>\n",
       "    </tr>\n",
       "  </tbody>\n",
       "</table>\n",
       "<p>480 rows × 9 columns</p>\n",
       "</div>"
      ],
      "text/plain": [
       "     image_id Broad_Category_Name  Category Category_Name  Item  \\\n",
       "0           7                   I         1      Andesite     7   \n",
       "1          14                   I         1      Andesite    14   \n",
       "2           1                   I         1      Andesite     1   \n",
       "3          15                   I         1      Andesite    15   \n",
       "4           2                   I         1      Andesite     2   \n",
       "..        ...                 ...       ...           ...   ...   \n",
       "475       468                   S        30         Shale     4   \n",
       "476       467                   S        30         Shale     3   \n",
       "477       474                   S        30         Shale    10   \n",
       "478       477                   S        30         Shale    13   \n",
       "479       479                   S        30         Shale    15   \n",
       "\n",
       "     Distinct_Rating  Group1  Group2          image_png  \n",
       "0               4.81  Target    Foil  I_Andesite_07.png  \n",
       "1               4.47    Foil  Target  I_Andesite_14.png  \n",
       "2               3.99  Target    Foil  I_Andesite_01.png  \n",
       "3               3.98    Foil  Target  I_Andesite_15.png  \n",
       "4               3.93  Target    Foil  I_Andesite_02.png  \n",
       "..               ...     ...     ...                ...  \n",
       "475             2.23  Target    Foil     S_Shale_04.png  \n",
       "476             1.95    Foil  Target     S_Shale_03.png  \n",
       "477             1.91  Target    Foil     S_Shale_10.png  \n",
       "478             1.88    Foil  Target     S_Shale_13.png  \n",
       "479             1.84  Target    Foil     S_Shale_15.png  \n",
       "\n",
       "[480 rows x 9 columns]"
      ]
     },
     "execution_count": 9,
     "metadata": {},
     "output_type": "execute_result"
    }
   ],
   "source": [
    "dist_rat_df"
   ]
  }
 ],
 "metadata": {
  "kernelspec": {
   "display_name": "base",
   "language": "python",
   "name": "python3"
  },
  "language_info": {
   "codemirror_mode": {
    "name": "ipython",
    "version": 3
   },
   "file_extension": ".py",
   "mimetype": "text/x-python",
   "name": "python",
   "nbconvert_exporter": "python",
   "pygments_lexer": "ipython3",
   "version": "3.12.7"
  }
 },
 "nbformat": 4,
 "nbformat_minor": 5
}
